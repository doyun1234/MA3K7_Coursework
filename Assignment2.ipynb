{
 "cells": [
  {
   "cell_type": "markdown",
   "id": "b13beb77-2cba-4c2e-96e7-95fc04a76f92",
   "metadata": {},
   "source": [
    "Import Libraries\n",
    "---"
   ]
  },
  {
   "cell_type": "code",
   "execution_count": 1,
   "id": "9a2ee8d9-c945-446e-9925-4d4344e6f576",
   "metadata": {},
   "outputs": [],
   "source": [
    "import random\n",
    "import numpy as np\n",
    "import math\n",
    "import matplotlib.pyplot as plt"
   ]
  },
  {
   "cell_type": "markdown",
   "id": "417efe0c-b2f9-4bca-874e-361f0e2cda71",
   "metadata": {},
   "source": [
    "---\n",
    "Implement Matrix Game\n",
    "---"
   ]
  },
  {
   "cell_type": "code",
   "execution_count": 2,
   "id": "bc1ccb7c-62d0-44fa-9314-fd6308023956",
   "metadata": {},
   "outputs": [],
   "source": [
    "def create_empty_matrix(n):\n",
    "    matrix = []\n",
    "    for _ in range(n):\n",
    "        row = [''] * n\n",
    "        matrix.append(row)\n",
    "    return matrix\n",
    "\n",
    "def print_mat(mat):\n",
    "    for i in mat:\n",
    "        print(i)\n",
    "        \n",
    "def is_valid(mat, row, col):\n",
    "    n = len(mat)\n",
    "    return 0 <= row < n and 0 <= col < n and mat[row, col] == ''\n",
    "\n",
    "def game_end(mat):\n",
    "    for i in mat:\n",
    "        if '' in i:\n",
    "            return False\n",
    "    return True\n",
    "\n",
    "def copy_move(mat, row, col, size):\n",
    "    mat[row][size - 1 - col] = 0\n",
    "\n",
    "def bot_move(mat):\n",
    "    row = random.randint(0,len(mat) - 1)\n",
    "    col = random.randint(0,len(mat) - 1)\n",
    "    while mat[row][col] != '':\n",
    "        row = random.randint(0,len(mat) - 1)\n",
    "        col = random.randint(0,len(mat) - 1)\n",
    "    mat[row][col] = 1\n",
    "    return row, col\n",
    "    \n",
    "def result(mat):\n",
    "    if np.linalg.det(mat) == 0:\n",
    "        print('You win!')\n",
    "    else:\n",
    "        print('You lose!')\n",
    "\n",
    "def game(n=0,strat=0):\n",
    "    matrix = create_empty_matrix(n)\n",
    "    player_turn = 0\n",
    "    turn = 1\n",
    "    if strat == 0:  \n",
    "        n = int(input('dimension for matrix game: '))\n",
    "        player_turn = int(input('choose player (1/2) (player 1 starts first): ')) % 2\n",
    "        while not game_end(matrix):\n",
    "            if turn == player_turn:\n",
    "                print_mat(matrix)\n",
    "                row = int(input('choose row: '))\n",
    "                col = int(input('choose column: '))\n",
    "                while not is_valid(matrix, row, col):\n",
    "                    row = int(input('choose row: '))\n",
    "                    col = int(input('choose column: '))\n",
    "                matrix[row][col] = 0\n",
    "                player_turn = (player_turn + 1) % 2\n",
    "            else:\n",
    "                _, _ = bot_move(matrix)\n",
    "                player_turn = (player_turn + 1) % 2\n",
    "    else:\n",
    "        while not game_end(matrix):\n",
    "            if turn == player_turn:\n",
    "                copy_move(matrix,row,col,n)\n",
    "                player_turn = (player_turn + 1) % 2\n",
    "            else:\n",
    "                row, col = bot_move(matrix)\n",
    "                player_turn = (player_turn + 1) % 2\n",
    "    print_mat(matrix)\n",
    "    result(matrix)"
   ]
  },
  {
   "cell_type": "code",
   "execution_count": 3,
   "id": "49d19bfd-a2dd-4d37-b220-165b5d680dfe",
   "metadata": {},
   "outputs": [
    {
     "name": "stdout",
     "output_type": "stream",
     "text": [
      "[0, 1, 0, 1]\n",
      "[0, 0, 1, 1]\n",
      "[1, 1, 0, 0]\n",
      "[1, 0, 1, 0]\n",
      "You win!\n",
      "------------------\n",
      "[0, 1, 0, 1, 0, 1]\n",
      "[1, 0, 1, 0, 1, 0]\n",
      "[0, 1, 1, 0, 0, 1]\n",
      "[1, 1, 0, 1, 0, 0]\n",
      "[1, 1, 1, 0, 0, 0]\n",
      "[0, 1, 0, 1, 0, 1]\n",
      "You win!\n",
      "------------------\n",
      "[0, 0, 1, 0, 1, 0, 1, 1]\n",
      "[0, 1, 1, 1, 0, 0, 0, 1]\n",
      "[1, 0, 1, 0, 1, 0, 1, 0]\n",
      "[1, 0, 1, 1, 0, 0, 1, 0]\n",
      "[0, 1, 0, 0, 1, 1, 0, 1]\n",
      "[0, 1, 0, 0, 1, 1, 0, 1]\n",
      "[0, 1, 1, 1, 0, 0, 0, 1]\n",
      "[0, 1, 1, 0, 1, 0, 0, 1]\n",
      "You win!\n",
      "------------------\n"
     ]
    }
   ],
   "source": [
    "for i in range(4,10,2):\n",
    "    game(i,1)\n",
    "    print('------------------')"
   ]
  },
  {
   "cell_type": "code",
   "execution_count": 4,
   "id": "88a61913-fc7a-4f2e-91bf-4e685551a989",
   "metadata": {},
   "outputs": [],
   "source": [
    "# game(strat=0)"
   ]
  },
  {
   "cell_type": "markdown",
   "id": "6d9ef5ae-c1ba-4077-8faf-936f0bcc946e",
   "metadata": {},
   "source": [
    "---\n",
    "Plot\n",
    "---"
   ]
  },
  {
   "cell_type": "code",
   "execution_count": 5,
   "id": "e894d22c-699f-4e0b-8fb3-426b12bb27e2",
   "metadata": {},
   "outputs": [],
   "source": [
    "def count_zero_determinant_matrices(n, zeros, ones, row=0, col=0, grid=None):\n",
    "    if grid is None:\n",
    "        grid = [[-1]*n for _ in range(n)]\n",
    "    \n",
    "    if row == n:\n",
    "        matrix = np.array(grid)\n",
    "        if np.linalg.det(matrix) == 0:\n",
    "            return 1\n",
    "        else:\n",
    "            return 0\n",
    "    \n",
    "    next_row = row + (col + 1) // n\n",
    "    next_col = (col + 1) % n\n",
    "    \n",
    "    count = 0\n",
    "    if zeros > 0:\n",
    "        grid[row][col] = 0\n",
    "        count += count_zero_determinant_matrices(n, zeros - 1, ones, next_row, next_col, grid)\n",
    "    \n",
    "    if ones > 0:\n",
    "        grid[row][col] = 1\n",
    "        count += count_zero_determinant_matrices(n, zeros, ones - 1, next_row, next_col, grid)\n",
    "    \n",
    "    return count"
   ]
  },
  {
   "cell_type": "code",
   "execution_count": 6,
   "id": "aa0b256e-6fc2-41b5-98f2-8ce0c75f8eff",
   "metadata": {},
   "outputs": [
    {
     "name": "stdout",
     "output_type": "stream",
     "text": [
      "working on n = 1 ...\n",
      "working on n = 2 ...\n",
      "working on n = 3 ...\n",
      "working on n = 4 ...\n",
      "working on n = 5 ...\n"
     ]
    }
   ],
   "source": [
    "cs = []\n",
    "for n in range(1,6):\n",
    "    zeros = n*n // 2 + n*n % 2\n",
    "    ones = n*n // 2\n",
    "    print(f'working on n = {n} ...')\n",
    "    cs.append(count_zero_determinant_matrices(n, zeros, ones) / math.comb(n*n,zeros))"
   ]
  },
  {
   "cell_type": "code",
   "execution_count": 7,
   "id": "f3b04401-55db-4b74-970b-3ef1626f69da",
   "metadata": {},
   "outputs": [
    {
     "data": {
      "image/png": "[encoded data removed]",
      "text/plain": [
       "<Figure size 864x432 with 1 Axes>"
      ]
     },
     "metadata": {
      "needs_background": "light"
     },
     "output_type": "display_data"
    }
   ],
   "source": [
    "plt.figure(figsize=(12,6))\n",
    "plt.plot(range(1,6),cs,'-o')\n",
    "plt.xlabel('n')\n",
    "plt.ylabel('probability of winning')\n",
    "plt.title('probability of winning for each n x n matrices')\n",
    "plt.grid(True)"
   ]
  },
  {
   "cell_type": "code",
   "execution_count": null,
   "id": "868e254d-5696-42d8-a896-2672281abb1d",
   "metadata": {},
   "outputs": [],
   "source": []
  }
 ],
 "metadata": {
  "kernelspec": {
   "display_name": "Python 3 (ipykernel)",
   "language": "python",
   "name": "python3"
  },
  "language_info": {
   "codemirror_mode": {
    "name": "ipython",
    "version": 3
   },
   "file_extension": ".py",
   "mimetype": "text/x-python",
   "name": "python",
   "nbconvert_exporter": "python",
   "pygments_lexer": "ipython3",
   "version": "3.9.7"
  }
 },
 "nbformat": 4,
 "nbformat_minor": 5
}
