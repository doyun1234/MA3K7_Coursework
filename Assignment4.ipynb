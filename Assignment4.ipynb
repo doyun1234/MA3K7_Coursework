{
 "cells": [
  {
   "cell_type": "code",
   "execution_count": 1,
   "id": "13b0e840-2a95-4a95-abc7-32d58fc43df0",
   "metadata": {},
   "outputs": [],
   "source": [
    "import math\n",
    "import timeit\n",
    "import matplotlib.pyplot as plt"
   ]
  },
  {
   "cell_type": "code",
   "execution_count": 2,
   "id": "8828929c-3921-45c7-b369-0bbcd5f21ee9",
   "metadata": {},
   "outputs": [],
   "source": [
    "def p(step):\n",
    "    if step == 1:\n",
    "        return 1\n",
    "    if step == 2:\n",
    "        return 0.5\n",
    "    return 0.5*p(step-2) + 0.5*p(step-1)"
   ]
  },
  {
   "cell_type": "code",
   "execution_count": 3,
   "id": "e4ca423d-83c1-4413-a18b-fe01fed73992",
   "metadata": {},
   "outputs": [],
   "source": [
    "def comb_sol(step):\n",
    "    prob = 0\n",
    "    for i in range((step-1)//2 + (step-1)%2 + 1):\n",
    "        prob += math.comb(step-(i+1),i)*(1/2**(step-(i+1)))     \n",
    "    return prob"
   ]
  },
  {
   "cell_type": "markdown",
   "id": "1fc3606f-5870-4943-a3fc-4ae5ff3ab9c4",
   "metadata": {},
   "source": []
  },
  {
   "cell_type": "code",
   "execution_count": 4,
   "id": "8d592469-725d-4535-adc8-342853d32704",
   "metadata": {},
   "outputs": [
    {
     "name": "stdout",
     "output_type": "stream",
     "text": [
      "the solution for step = 25 with recursive method: 0.6666666865348816\n",
      "the solution for step = 25 with combinatoric method: 0.6666666865348816\n"
     ]
    }
   ],
   "source": [
    "print(f'the solution for step = 25 with recursive method: {p(25)}')\n",
    "print(f'the solution for step = 25 with combinatoric method: {comb_sol(25)}')"
   ]
  },
  {
   "cell_type": "code",
   "execution_count": 5,
   "id": "e3fd85a6-6051-46e5-8c6c-e0f3b6270196",
   "metadata": {},
   "outputs": [
    {
     "name": "stdout",
     "output_type": "stream",
     "text": [
      "the solution for step = 1 with recursive method:    1\n",
      "the solution for step = 1 with combinatoric method: 1.0\n",
      "----------------------------------------------------------\n",
      "the solution for step = 2 with recursive method:    0.5\n",
      "the solution for step = 2 with combinatoric method: 0.5\n",
      "----------------------------------------------------------\n",
      "the solution for step = 3 with recursive method:    0.75\n",
      "the solution for step = 3 with combinatoric method: 0.75\n",
      "----------------------------------------------------------\n",
      "the solution for step = 4 with recursive method:    0.625\n",
      "the solution for step = 4 with combinatoric method: 0.625\n",
      "----------------------------------------------------------\n",
      "the solution for step = 5 with recursive method:    0.6875\n",
      "the solution for step = 5 with combinatoric method: 0.6875\n",
      "----------------------------------------------------------\n",
      "the solution for step = 6 with recursive method:    0.65625\n",
      "the solution for step = 6 with combinatoric method: 0.65625\n",
      "----------------------------------------------------------\n",
      "the solution for step = 7 with recursive method:    0.671875\n",
      "the solution for step = 7 with combinatoric method: 0.671875\n",
      "----------------------------------------------------------\n",
      "the solution for step = 8 with recursive method:    0.6640625\n",
      "the solution for step = 8 with combinatoric method: 0.6640625\n",
      "----------------------------------------------------------\n",
      "the solution for step = 9 with recursive method:    0.66796875\n",
      "the solution for step = 9 with combinatoric method: 0.66796875\n",
      "----------------------------------------------------------\n",
      "the solution for step = 10 with recursive method:    0.666015625\n",
      "the solution for step = 10 with combinatoric method: 0.666015625\n",
      "----------------------------------------------------------\n",
      "the solution for step = 11 with recursive method:    0.6669921875\n",
      "the solution for step = 11 with combinatoric method: 0.6669921875\n",
      "----------------------------------------------------------\n",
      "the solution for step = 12 with recursive method:    0.66650390625\n",
      "the solution for step = 12 with combinatoric method: 0.66650390625\n",
      "----------------------------------------------------------\n",
      "the solution for step = 13 with recursive method:    0.666748046875\n",
      "the solution for step = 13 with combinatoric method: 0.666748046875\n",
      "----------------------------------------------------------\n",
      "the solution for step = 14 with recursive method:    0.6666259765625\n",
      "the solution for step = 14 with combinatoric method: 0.6666259765625\n",
      "----------------------------------------------------------\n",
      "the solution for step = 15 with recursive method:    0.66668701171875\n",
      "the solution for step = 15 with combinatoric method: 0.66668701171875\n",
      "----------------------------------------------------------\n",
      "the solution for step = 16 with recursive method:    0.666656494140625\n",
      "the solution for step = 16 with combinatoric method: 0.666656494140625\n",
      "----------------------------------------------------------\n",
      "the solution for step = 17 with recursive method:    0.6666717529296875\n",
      "the solution for step = 17 with combinatoric method: 0.6666717529296875\n",
      "----------------------------------------------------------\n",
      "the solution for step = 18 with recursive method:    0.6666641235351562\n",
      "the solution for step = 18 with combinatoric method: 0.6666641235351562\n",
      "----------------------------------------------------------\n",
      "the solution for step = 19 with recursive method:    0.6666679382324219\n",
      "the solution for step = 19 with combinatoric method: 0.6666679382324219\n",
      "----------------------------------------------------------\n",
      "the solution for step = 20 with recursive method:    0.6666660308837891\n",
      "the solution for step = 20 with combinatoric method: 0.6666660308837891\n",
      "----------------------------------------------------------\n",
      "the solution for step = 21 with recursive method:    0.6666669845581055\n",
      "the solution for step = 21 with combinatoric method: 0.6666669845581055\n",
      "----------------------------------------------------------\n",
      "the solution for step = 22 with recursive method:    0.6666665077209473\n",
      "the solution for step = 22 with combinatoric method: 0.6666665077209473\n",
      "----------------------------------------------------------\n",
      "the solution for step = 23 with recursive method:    0.6666667461395264\n",
      "the solution for step = 23 with combinatoric method: 0.6666667461395264\n",
      "----------------------------------------------------------\n",
      "the solution for step = 24 with recursive method:    0.6666666269302368\n",
      "the solution for step = 24 with combinatoric method: 0.6666666269302368\n",
      "----------------------------------------------------------\n",
      "the solution for step = 25 with recursive method:    0.6666666865348816\n",
      "the solution for step = 25 with combinatoric method: 0.6666666865348816\n",
      "----------------------------------------------------------\n"
     ]
    }
   ],
   "source": [
    "for i in range(1,26):\n",
    "    print(f'the solution for step = {i} with recursive method:    {p(i)}')\n",
    "    print(f'the solution for step = {i} with combinatoric method: {comb_sol(i)}')\n",
    "    print('----------------------------------------------------------')"
   ]
  },
  {
   "cell_type": "markdown",
   "id": "d7e1a589-ec8f-4938-affd-c571510569f1",
   "metadata": {},
   "source": [
    "---\n",
    "# Plot"
   ]
  },
  {
   "cell_type": "code",
   "execution_count": 6,
   "id": "42fcb7d6-dc3a-4e2d-aa1e-3b91d2b23ec3",
   "metadata": {},
   "outputs": [
    {
     "data": {
      "image/png": "[encoded data removed]",
      "text/plain": [
       "<Figure size 864x432 with 1 Axes>"
      ]
     },
     "metadata": {
      "needs_background": "light"
     },
     "output_type": "display_data"
    }
   ],
   "source": [
    "n_values = list(range(1, 26))\n",
    "time_p = []\n",
    "time_comb_sol = []\n",
    "\n",
    "for n in n_values:\n",
    "    time_p.append(timeit.timeit(\"p(\" + str(n) + \")\", globals=globals(), number=1000))\n",
    "    time_comb_sol.append(timeit.timeit(\"comb_sol(\" + str(n) + \")\", globals=globals(), number=1000))\n",
    "\n",
    "plt.figure(figsize=(12,6))\n",
    "plt.plot(n_values, time_p, label='p')\n",
    "plt.plot(n_values, time_comb_sol, label='comb_sol')\n",
    "plt.xlabel('n')\n",
    "plt.ylabel('Time (seconds)')\n",
    "plt.title('Runtime Comparison')\n",
    "plt.legend()\n",
    "plt.show()"
   ]
  },
  {
   "cell_type": "code",
   "execution_count": null,
   "id": "c9f3362d-93ab-4840-8bfe-c4b0182e7a5a",
   "metadata": {},
   "outputs": [],
   "source": []
  }
 ],
 "metadata": {
  "kernelspec": {
   "display_name": "Python 3 (ipykernel)",
   "language": "python",
   "name": "python3"
  },
  "language_info": {
   "codemirror_mode": {
    "name": "ipython",
    "version": 3
   },
   "file_extension": ".py",
   "mimetype": "text/x-python",
   "name": "python",
   "nbconvert_exporter": "python",
   "pygments_lexer": "ipython3",
   "version": "3.9.7"
  }
 },
 "nbformat": 4,
 "nbformat_minor": 5
}
