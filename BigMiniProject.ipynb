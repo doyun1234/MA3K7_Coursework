{
 "cells": [
  {
   "cell_type": "code",
   "execution_count": 1,
   "id": "a816e926-44e8-49b3-9ee3-20b699b1af68",
   "metadata": {},
   "outputs": [],
   "source": [
    "import random\n",
    "import numpy as np\n",
    "import matplotlib.pyplot as plt\n",
    "import math"
   ]
  },
  {
   "cell_type": "code",
   "execution_count": 2,
   "id": "8c6b346a-dcfd-4c80-a0b8-2c5a7a78a1f3",
   "metadata": {},
   "outputs": [],
   "source": [
    "def simulate(N):\n",
    "    loops = np.zeros(N)\n",
    "    for i in range(N):\n",
    "        tie = random.randint(0,N-1)\n",
    "        loops[tie] += 1\n",
    "    return len(loops[loops != 0])"
   ]
  },
  {
   "cell_type": "code",
   "execution_count": 3,
   "id": "1ea72418-f4e2-476f-bddb-5768c3e199ac",
   "metadata": {},
   "outputs": [],
   "source": [
    "N = 1000\n",
    "data = np.zeros(N)\n",
    "for i in range(10000):\n",
    "    num_cl =simulate(N)\n",
    "    data[num_cl-1] += 1"
   ]
  },
  {
   "cell_type": "code",
   "execution_count": 4,
   "id": "32ad32b9-402d-45fe-af60-0c8c753d94af",
   "metadata": {},
   "outputs": [],
   "source": [
    "def plot_bar(data):\n",
    "    plt.figure(figsize=(12,6))\n",
    "    plt.bar(range(1, len(data)+1), data, align='center')\n",
    "    plt.xlabel('Number of closed string loops')\n",
    "    plt.ylabel('Frequency')\n",
    "    plt.title('Histogram')\n",
    "    plt.grid(True)\n",
    "    plt.show()"
   ]
  },
  {
   "cell_type": "code",
   "execution_count": 5,
   "id": "b2deec8e-3b6f-4586-a84e-0cd537a4ae16",
   "metadata": {},
   "outputs": [],
   "source": [
    "N = 10\n",
    "data = []\n",
    "for i in range(10000):\n",
    "    data.append(simulate(N))"
   ]
  },
  {
   "cell_type": "code",
   "execution_count": 6,
   "id": "3e00c502-9bb8-4a27-8631-6c95780f64d1",
   "metadata": {},
   "outputs": [
    {
     "data": {
      "image/png": "[encoded data removed]",
      "text/plain": [
       "<Figure size 864x432 with 1 Axes>"
      ]
     },
     "metadata": {
      "needs_background": "light"
     },
     "output_type": "display_data"
    }
   ],
   "source": [
    "plt.figure(figsize=(12,6))\n",
    "plt.hist(data, bins=range(min(data), max(data) + 1), edgecolor='black')\n",
    "plt.xlabel('Number of closed string loops')\n",
    "plt.ylabel('Frequency')\n",
    "plt.title('Histogram')\n",
    "plt.grid(True)\n",
    "plt.show()"
   ]
  },
  {
   "cell_type": "code",
   "execution_count": 7,
   "id": "7b9bdfce-d4eb-4465-82e6-35e0e0e95777",
   "metadata": {},
   "outputs": [],
   "source": [
    "def perm(n, k):\n",
    "    return math.factorial(n) / math.factorial(n - k)\n",
    "\n",
    "def unique(set_arr):\n",
    "    ret = []\n",
    "    for i in set_arr:\n",
    "        if i not in ret:\n",
    "            ret.append(i)\n",
    "    return ret\n",
    "\n",
    "def total_comb(N):\n",
    "    loop_comb = np.zeros(N)\n",
    "    current_P = [[]]\n",
    "    loop_comb[-1] = 1\n",
    "    for l in range(N - 1, N // 2, -1):\n",
    "        \n",
    "        # Construct set P\n",
    "        next_P = []\n",
    "        \n",
    "        for i in range(len(current_P)):\n",
    "            for j in np.unique(current_P[i]):\n",
    "                C = current_P[i].copy()  # Copy the list to avoid mutation\n",
    "                index = np.where(np.array(C) == j)[0][0]\n",
    "                C[index] += 1\n",
    "                next_P.append(C)\n",
    "        \n",
    "        item = current_P[-1].copy()  # Copy the list to avoid mutation\n",
    "        item.append(2)\n",
    "        next_P.append(item)\n",
    "        current_P = unique(next_P)\n",
    "        # Counting\n",
    "        for C in current_P:\n",
    "            prod = 2**(np.sum(C) - len(C))\n",
    "            n = l\n",
    "            for i in np.unique(C):\n",
    "                C = np.array(C)\n",
    "                k = len(C[C == i])\n",
    "                prod *= perm(n, k)\n",
    "                n -= len(C[C == i])\n",
    "            loop_comb[l - 1] += prod\n",
    "            \n",
    "    #####################################################\n",
    "    \n",
    "    for l in range(N // 2, 0, -1):\n",
    "        \n",
    "        # Construct set P\n",
    "        next_P = []\n",
    "        \n",
    "        for i in range(len(current_P)):\n",
    "            for j in np.unique(current_P[i]):\n",
    "                C = current_P[i].copy()  # Copy the list to avoid mutation\n",
    "                index = np.where(np.array(C) == j)[0][0]\n",
    "                C[index] += 1\n",
    "                next_P.append(C)\n",
    "        current_P = unique(next_P)\n",
    "        current_P = [subarray for subarray in current_P if len(subarray) <=l]\n",
    "        # Counting\n",
    "        for C in current_P:\n",
    "            prod = 2**(np.sum(C) - len(C))\n",
    "            n = l\n",
    "            for i in np.unique(C):\n",
    "                C = np.array(C)\n",
    "                k = len(C[C == i])\n",
    "                prod *= perm(n, k)\n",
    "                n -= len(C[C == i])\n",
    "            loop_comb[l-1] += prod\n",
    "        \n",
    "    return loop_comb\n",
    "\n",
    "def exp_val1(N):\n",
    "    loop_comb = total_comb(N)\n",
    "    sum = 0\n",
    "    for i in range(len(loop_comb)):\n",
    "        sum += (i+1) * loop_comb[i]\n",
    "    return sum / np.sum(loop_comb)\n",
    "\n",
    "def exp_val2(N):\n",
    "    sum = 0\n",
    "    for i in range(1,N+1):\n",
    "        sum += 1/(2*i-1)\n",
    "    return sum"
   ]
  },
  {
   "cell_type": "code",
   "execution_count": 8,
   "id": "bdc967a0-4ec6-48b2-91c4-dd33b78e8757",
   "metadata": {},
   "outputs": [
    {
     "data": {
      "image/png": "[encoded data removed]",
      "text/plain": [
       "<Figure size 864x432 with 1 Axes>"
      ]
     },
     "metadata": {
      "needs_background": "light"
     },
     "output_type": "display_data"
    }
   ],
   "source": [
    "plot_bar(total_comb(25))"
   ]
  },
  {
   "cell_type": "code",
   "execution_count": 9,
   "id": "2b3fac20-640c-4f17-9ad4-b4e41f25627f",
   "metadata": {},
   "outputs": [
    {
     "name": "stdout",
     "output_type": "stream",
     "text": [
      "Our Eq gives 1.6666666666666667\n",
      "Our sol gives 1.5333333333333332\n",
      "------------------------------------\n",
      "Our Eq gives 2.0\n",
      "Our sol gives 1.676190476190476\n",
      "------------------------------------\n",
      "Our Eq gives 2.4193548387096775\n",
      "Our sol gives 1.7873015873015872\n",
      "------------------------------------\n",
      "Our Eq gives 2.7345454545454544\n",
      "Our sol gives 1.878210678210678\n",
      "------------------------------------\n",
      "Our Eq gives 3.234146341463415\n",
      "Our sol gives 1.9551337551337549\n",
      "------------------------------------\n"
     ]
    }
   ],
   "source": [
    "for n in range(3,8):\n",
    "    print(f'Our Eq gives {exp_val1(n)}')\n",
    "    print(f'Our sol gives {exp_val2(n)}')\n",
    "    print('------------------------------------')"
   ]
  },
  {
   "cell_type": "code",
   "execution_count": 12,
   "id": "5ef18471-79f4-43f7-b27b-38b7ea5abced",
   "metadata": {},
   "outputs": [
    {
     "name": "stdout",
     "output_type": "stream",
     "text": [
      "counting gives 9.0\n",
      "counting gives 23.0\n",
      "counting gives 93.0\n",
      "counting gives 275.0\n",
      "counting gives 1025.0\n"
     ]
    }
   ],
   "source": [
    "for n in range(3,8):\n",
    "    print(f'counting gives {np.sum(total_comb(n))}')"
   ]
  },
  {
   "cell_type": "code",
   "execution_count": null,
   "id": "f0901de4-c4e0-46a9-829f-13f1333c0e4b",
   "metadata": {},
   "outputs": [],
   "source": []
  }
 ],
 "metadata": {
  "kernelspec": {
   "display_name": "Python 3 (ipykernel)",
   "language": "python",
   "name": "python3"
  },
  "language_info": {
   "codemirror_mode": {
    "name": "ipython",
    "version": 3
   },
   "file_extension": ".py",
   "mimetype": "text/x-python",
   "name": "python",
   "nbconvert_exporter": "python",
   "pygments_lexer": "ipython3",
   "version": "3.9.7"
  }
 },
 "nbformat": 4,
 "nbformat_minor": 5
}
