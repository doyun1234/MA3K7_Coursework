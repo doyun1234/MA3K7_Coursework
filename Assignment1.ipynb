{
 "cells": [
  {
   "cell_type": "markdown",
   "id": "d464f02b-d253-4332-a813-62b8c5f85e90",
   "metadata": {},
   "source": [
    "Import libraries\n",
    "---"
   ]
  },
  {
   "cell_type": "code",
   "execution_count": 1,
   "id": "86e95d05-4549-4cb3-95c2-e5ada54b6249",
   "metadata": {},
   "outputs": [],
   "source": [
    "import numpy as np\n",
    "import pandas as pd"
   ]
  },
  {
   "cell_type": "markdown",
   "id": "d9497bfa-0880-438b-b25d-c31427e99d64",
   "metadata": {},
   "source": [
    "---\n",
    "Define functions\n",
    "---"
   ]
  },
  {
   "cell_type": "code",
   "execution_count": 2,
   "id": "4df76ec6-0871-4b81-a1cb-74ecadc9ae27",
   "metadata": {},
   "outputs": [],
   "source": [
    "def check_periodic(seq):\n",
    "    '''\n",
    "        Function will return True if the second and first numbers in the 'number bracelet' \n",
    "        matches the last and second last numbers in the 'number bracelet' respectively.\n",
    "    '''\n",
    "    return seq[1] == seq[-1] and seq[0] == seq[-2]\n",
    "\n",
    "def one_pair(a,b):\n",
    "    '''\n",
    "        Function will generate a 'number bracelet' given starting pairs: a, b\n",
    "    '''\n",
    "    seq = [a,b,(a+b)%10]\n",
    "    count = 3\n",
    "    while not check_periodic(seq):\n",
    "        seq.append((seq[-1] + seq[-2])%10)\n",
    "        count += 1\n",
    "    return seq[:-2], count-2\n",
    "\n",
    "def all_pair():\n",
    "    '''\n",
    "        Function will return matrix with the entries represent \n",
    "        length of 'number bracelet' of starting pairs of intersecting row and column\n",
    "    '''\n",
    "    pairs = np.zeros([10,10])\n",
    "    for i in range(10):\n",
    "        for j in range(10):\n",
    "            _,pairs[i,j] = one_pair(i,j)\n",
    "    return pairs"
   ]
  },
  {
   "cell_type": "markdown",
   "id": "eb696935-a258-43a6-807c-05aa03b3e2a7",
   "metadata": {},
   "source": [
    "---\n",
    "Computations\n",
    "---"
   ]
  },
  {
   "cell_type": "code",
   "execution_count": 3,
   "id": "a23c4319-b6df-468d-8603-fd7c0bd48731",
   "metadata": {},
   "outputs": [
    {
     "data": {
      "text/plain": [
       "array([1, 5, 6, 1, 7, 8, 5, 3, 8, 1, 9, 0, 9, 9, 8, 7, 5, 2, 7, 9, 6, 5,\n",
       "       1, 6, 7, 3, 0, 3, 3, 6, 9, 5, 4, 9, 3, 2, 5, 7, 2, 9, 1, 0, 1, 1,\n",
       "       2, 3, 5, 8, 3, 1, 4, 5, 9, 4, 3, 7, 0, 7, 7, 4])"
      ]
     },
     "execution_count": 3,
     "metadata": {},
     "output_type": "execute_result"
    }
   ],
   "source": [
    "number_bracelet_15,_ = one_pair(1,5)\n",
    "np.array(number_bracelet_15)"
   ]
  },
  {
   "cell_type": "code",
   "execution_count": 4,
   "id": "b4351c38-a0c5-49de-bb7b-d2779832fc68",
   "metadata": {},
   "outputs": [
    {
     "data": {
      "text/html": [
       "<div>\n",
       "<style scoped>\n",
       "    .dataframe tbody tr th:only-of-type {\n",
       "        vertical-align: middle;\n",
       "    }\n",
       "\n",
       "    .dataframe tbody tr th {\n",
       "        vertical-align: top;\n",
       "    }\n",
       "\n",
       "    .dataframe thead th {\n",
       "        text-align: right;\n",
       "    }\n",
       "</style>\n",
       "<table border=\"1\" class=\"dataframe\">\n",
       "  <thead>\n",
       "    <tr style=\"text-align: right;\">\n",
       "      <th></th>\n",
       "      <th>0</th>\n",
       "      <th>1</th>\n",
       "      <th>2</th>\n",
       "      <th>3</th>\n",
       "      <th>4</th>\n",
       "      <th>5</th>\n",
       "      <th>6</th>\n",
       "      <th>7</th>\n",
       "      <th>8</th>\n",
       "      <th>9</th>\n",
       "    </tr>\n",
       "  </thead>\n",
       "  <tbody>\n",
       "    <tr>\n",
       "      <th>0</th>\n",
       "      <td>1.0</td>\n",
       "      <td>60.0</td>\n",
       "      <td>20.0</td>\n",
       "      <td>60.0</td>\n",
       "      <td>20.0</td>\n",
       "      <td>3.0</td>\n",
       "      <td>20.0</td>\n",
       "      <td>60.0</td>\n",
       "      <td>20.0</td>\n",
       "      <td>60.0</td>\n",
       "    </tr>\n",
       "    <tr>\n",
       "      <th>1</th>\n",
       "      <td>60.0</td>\n",
       "      <td>60.0</td>\n",
       "      <td>60.0</td>\n",
       "      <td>12.0</td>\n",
       "      <td>60.0</td>\n",
       "      <td>60.0</td>\n",
       "      <td>60.0</td>\n",
       "      <td>60.0</td>\n",
       "      <td>12.0</td>\n",
       "      <td>60.0</td>\n",
       "    </tr>\n",
       "    <tr>\n",
       "      <th>2</th>\n",
       "      <td>20.0</td>\n",
       "      <td>12.0</td>\n",
       "      <td>20.0</td>\n",
       "      <td>60.0</td>\n",
       "      <td>20.0</td>\n",
       "      <td>60.0</td>\n",
       "      <td>4.0</td>\n",
       "      <td>60.0</td>\n",
       "      <td>20.0</td>\n",
       "      <td>60.0</td>\n",
       "    </tr>\n",
       "    <tr>\n",
       "      <th>3</th>\n",
       "      <td>60.0</td>\n",
       "      <td>60.0</td>\n",
       "      <td>60.0</td>\n",
       "      <td>60.0</td>\n",
       "      <td>12.0</td>\n",
       "      <td>60.0</td>\n",
       "      <td>60.0</td>\n",
       "      <td>60.0</td>\n",
       "      <td>60.0</td>\n",
       "      <td>12.0</td>\n",
       "    </tr>\n",
       "    <tr>\n",
       "      <th>4</th>\n",
       "      <td>20.0</td>\n",
       "      <td>60.0</td>\n",
       "      <td>4.0</td>\n",
       "      <td>60.0</td>\n",
       "      <td>20.0</td>\n",
       "      <td>60.0</td>\n",
       "      <td>20.0</td>\n",
       "      <td>12.0</td>\n",
       "      <td>20.0</td>\n",
       "      <td>60.0</td>\n",
       "    </tr>\n",
       "    <tr>\n",
       "      <th>5</th>\n",
       "      <td>3.0</td>\n",
       "      <td>60.0</td>\n",
       "      <td>60.0</td>\n",
       "      <td>60.0</td>\n",
       "      <td>60.0</td>\n",
       "      <td>3.0</td>\n",
       "      <td>60.0</td>\n",
       "      <td>60.0</td>\n",
       "      <td>60.0</td>\n",
       "      <td>60.0</td>\n",
       "    </tr>\n",
       "    <tr>\n",
       "      <th>6</th>\n",
       "      <td>20.0</td>\n",
       "      <td>60.0</td>\n",
       "      <td>20.0</td>\n",
       "      <td>12.0</td>\n",
       "      <td>20.0</td>\n",
       "      <td>60.0</td>\n",
       "      <td>20.0</td>\n",
       "      <td>60.0</td>\n",
       "      <td>4.0</td>\n",
       "      <td>60.0</td>\n",
       "    </tr>\n",
       "    <tr>\n",
       "      <th>7</th>\n",
       "      <td>60.0</td>\n",
       "      <td>12.0</td>\n",
       "      <td>60.0</td>\n",
       "      <td>60.0</td>\n",
       "      <td>60.0</td>\n",
       "      <td>60.0</td>\n",
       "      <td>12.0</td>\n",
       "      <td>60.0</td>\n",
       "      <td>60.0</td>\n",
       "      <td>60.0</td>\n",
       "    </tr>\n",
       "    <tr>\n",
       "      <th>8</th>\n",
       "      <td>20.0</td>\n",
       "      <td>60.0</td>\n",
       "      <td>20.0</td>\n",
       "      <td>60.0</td>\n",
       "      <td>4.0</td>\n",
       "      <td>60.0</td>\n",
       "      <td>20.0</td>\n",
       "      <td>60.0</td>\n",
       "      <td>20.0</td>\n",
       "      <td>12.0</td>\n",
       "    </tr>\n",
       "    <tr>\n",
       "      <th>9</th>\n",
       "      <td>60.0</td>\n",
       "      <td>60.0</td>\n",
       "      <td>12.0</td>\n",
       "      <td>60.0</td>\n",
       "      <td>60.0</td>\n",
       "      <td>60.0</td>\n",
       "      <td>60.0</td>\n",
       "      <td>12.0</td>\n",
       "      <td>60.0</td>\n",
       "      <td>60.0</td>\n",
       "    </tr>\n",
       "  </tbody>\n",
       "</table>\n",
       "</div>"
      ],
      "text/plain": [
       "      0     1     2     3     4     5     6     7     8     9\n",
       "0   1.0  60.0  20.0  60.0  20.0   3.0  20.0  60.0  20.0  60.0\n",
       "1  60.0  60.0  60.0  12.0  60.0  60.0  60.0  60.0  12.0  60.0\n",
       "2  20.0  12.0  20.0  60.0  20.0  60.0   4.0  60.0  20.0  60.0\n",
       "3  60.0  60.0  60.0  60.0  12.0  60.0  60.0  60.0  60.0  12.0\n",
       "4  20.0  60.0   4.0  60.0  20.0  60.0  20.0  12.0  20.0  60.0\n",
       "5   3.0  60.0  60.0  60.0  60.0   3.0  60.0  60.0  60.0  60.0\n",
       "6  20.0  60.0  20.0  12.0  20.0  60.0  20.0  60.0   4.0  60.0\n",
       "7  60.0  12.0  60.0  60.0  60.0  60.0  12.0  60.0  60.0  60.0\n",
       "8  20.0  60.0  20.0  60.0   4.0  60.0  20.0  60.0  20.0  12.0\n",
       "9  60.0  60.0  12.0  60.0  60.0  60.0  60.0  12.0  60.0  60.0"
      ]
     },
     "execution_count": 4,
     "metadata": {},
     "output_type": "execute_result"
    }
   ],
   "source": [
    "pairs = all_pair()\n",
    "# Convert the matrix into pandas dataframe\n",
    "df = pd.DataFrame()\n",
    "for i in range(10):\n",
    "    df[str(i)] = pairs[:,i] \n",
    "df"
   ]
  },
  {
   "cell_type": "code",
   "execution_count": 5,
   "id": "129fef38-ccd2-45a8-9fed-1483046454b3",
   "metadata": {},
   "outputs": [
    {
     "name": "stdout",
     "output_type": "stream",
     "text": [
      "length of different bracelets: [ 1.  3.  4. 12. 20. 60.]\n",
      "number of different bracelets: 6\n"
     ]
    }
   ],
   "source": [
    "print(f'length of different bracelets: {np.unique(df)}')\n",
    "print(f'number of different bracelets: {len(np.unique(df))}')"
   ]
  },
  {
   "cell_type": "code",
   "execution_count": 6,
   "id": "fb2cc195-5209-4ec6-b26e-cc9b768805ba",
   "metadata": {},
   "outputs": [],
   "source": [
    "unique = {'1':[0,0],'3':[5,0],'4':[4,2],'12':[2,1],'20':[0,2],'60':[1,0]}"
   ]
  },
  {
   "cell_type": "markdown",
   "id": "3478292c-04fa-449c-be27-f1744050207a",
   "metadata": {},
   "source": [
    "---\n",
    "Check uniqueness\n",
    "---"
   ]
  },
  {
   "cell_type": "code",
   "execution_count": 7,
   "id": "a8489541-3519-4527-8453-54ad257e0223",
   "metadata": {},
   "outputs": [
    {
     "name": "stdout",
     "output_type": "stream",
     "text": [
      "bracelet with same length is the same bracelet\n"
     ]
    }
   ],
   "source": [
    "for i in np.unique(df):\n",
    "    i = int(i)\n",
    "    current1,_ = one_pair(unique[str(i)][0],unique[str(i)][1])\n",
    "    for j in range(10):\n",
    "        for k in np.array(df[df[str(j)] == i][str(j)].index):\n",
    "            current2,_ = one_pair(k,j)\n",
    "            l = 1\n",
    "            while not np.array_equal(np.roll(current1,l),current2):\n",
    "                l += 1\n",
    "print('bracelet with same length is the same bracelet')"
   ]
  }
 ],
 "metadata": {
  "kernelspec": {
   "display_name": "Python 3 (ipykernel)",
   "language": "python",
   "name": "python3"
  },
  "language_info": {
   "codemirror_mode": {
    "name": "ipython",
    "version": 3
   },
   "file_extension": ".py",
   "mimetype": "text/x-python",
   "name": "python",
   "nbconvert_exporter": "python",
   "pygments_lexer": "ipython3",
   "version": "3.9.7"
  }
 },
 "nbformat": 4,
 "nbformat_minor": 5
}
